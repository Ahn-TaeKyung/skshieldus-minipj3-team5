{
 "cells": [
  {
   "cell_type": "code",
   "execution_count": 1,
   "id": "479899e7",
   "metadata": {},
   "outputs": [],
   "source": [
    "# =============================================================================\n",
    "#   라이브러리 임포트\n",
    "# =============================================================================\n",
    "\n",
    "# 필요한 라이브러리 설치\n",
    "# !pip install PyMuPDF python-docx openai\n",
    "# pip install python-dotenv\n",
    "\n",
    "import os\n",
    "import fitz # PDF용\n",
    "import docx # DOCX용\n",
    "from dotenv import load_dotenv\n",
    "from openai import OpenAI\n",
    "from IPython.display import Markdown, display"
   ]
  },
  {
   "cell_type": "code",
   "execution_count": 2,
   "id": "a369dcd0",
   "metadata": {},
   "outputs": [],
   "source": [
    "# =============================================================================\n",
    "# 🔑 OpenAI API 키 환경변수 설정\n",
    "# =============================================================================\n",
    "\n",
    "# .env 파일 로드 (OPENAI_API_KEY를 환경변수로 등록)\n",
    "load_dotenv()\n",
    "\n",
    "client = OpenAI()"
   ]
  },
  {
   "cell_type": "code",
   "execution_count": null,
   "id": "28d53bc4",
   "metadata": {},
   "outputs": [],
   "source": []
  },
  {
   "cell_type": "code",
   "execution_count": 3,
   "id": "f08fe48e",
   "metadata": {},
   "outputs": [],
   "source": [
    "# =============================================================================\n",
    "#   첨부 파일 경로 설정 및 형식 확인\n",
    "# =============================================================================\n",
    "\n",
    "# 첨부한 파일 경로\n",
    "file_path = \"resume.txt\"\n",
    "\n",
    "# 확장자 추출 후 소문자로 변환 (pdf, docx, txt 구분용)\n",
    "ext = os.path.splitext(file_path)[-1].lower()"
   ]
  },
  {
   "cell_type": "code",
   "execution_count": 4,
   "id": "a6727125",
   "metadata": {},
   "outputs": [],
   "source": [
    "# =============================================================================\n",
    "#   첨부 파일에서 텍스트 추출\n",
    "# =============================================================================\n",
    "\n",
    "extracted_text = \"\"\n",
    "\n",
    "if ext == \".pdf\":\n",
    "    with fitz.open(file_path) as doc:\n",
    "        for page in doc:\n",
    "            extracted_text += page.get_text()\n",
    "elif ext == \".docx\":\n",
    "    doc = docx.Document(file_path)\n",
    "    for para in doc.paragraphs:\n",
    "        extracted_text += para.text + \"\\n\"\n",
    "elif ext == \".txt\":\n",
    "    with open(file_path, \"r\", encoding=\"utf-8\") as f:\n",
    "        extracted_text = f.read()\n",
    "else:\n",
    "    raise ValueError(f\"지원하지 않는 파일 형식입니다: {ext}\")"
   ]
  },
  {
   "cell_type": "code",
   "execution_count": 5,
   "id": "bd7b6bbb",
   "metadata": {},
   "outputs": [
    {
     "data": {
      "text/markdown": [
       "추출한 텍스트 일부 미리보기"
      ],
      "text/plain": [
       "<IPython.core.display.Markdown object>"
      ]
     },
     "metadata": {},
     "output_type": "display_data"
    },
    {
     "data": {
      "text/markdown": [
       "```\n",
       "홍길동\n",
       "이메일: honggildong@example.com\n",
       "전화번호: 010-1234-5678\n",
       "\n",
       "요약\n",
       "- 5년 이상의 백엔드 개발 경력\n",
       "- Python, Django, Node.js를 활용한 웹서비스 구축\n",
       "- AWS 기반 서비스 배포 및 인프라 관리 경험\n",
       "\n",
       "주요 경력\n",
       "- ABC주식회사 / 백엔드 개발자 / 2020.01 ~ 현재\n",
       "  - 대용량 트래픽 처리 시스템 설계 및 구현\n",
       "  - REST API 서버 개발 및 유지보수\n",
       "\n",
       "- XYZ스타트업 / 웹 개발자 / 2017.06 ~ 2019.12\n",
       "  - 사용자 인증 및 결제 모듈 개발\n",
       "  - 프론트엔드 개발팀과 협업하여 SPA 구축\n",
       "\n",
       "기술 스택\n",
       "- 언어: Python, JavaScript, Java\n",
       "- 프레임워크: Django, Flask, Express\n",
       "- 데이터베이스: MySQL, PostgreSQL\n",
       "- 기타: Git, Docker, AWS, Linux\n",
       "\n",
       "학력\n",
       "- 대한민국대학교 컴퓨터공학과 학사 졸업 (2017)...\n",
       "```"
      ],
      "text/plain": [
       "<IPython.core.display.Markdown object>"
      ]
     },
     "metadata": {},
     "output_type": "display_data"
    }
   ],
   "source": [
    "# =============================================================================\n",
    "#   추출된 텍스트 일부 미리보기\n",
    "# =============================================================================\n",
    "\n",
    "display(Markdown(\"추출한 텍스트 일부 미리보기\"))\n",
    "display(Markdown(f\"```\\n{extracted_text[:1000]}...\\n```\"))"
   ]
  },
  {
   "cell_type": "code",
   "execution_count": 6,
   "id": "9fa041f0",
   "metadata": {},
   "outputs": [],
   "source": [
    "# =============================================================================\n",
    "#   Ollama로 보낼 프롬프트 작성\n",
    "# =============================================================================\n",
    "\n",
    "# Ollama 프롬프트\n",
    "prompt = f\"\"\"\n",
    "너는 전문 인사 담당자야.\n",
    "\n",
    "아래는 지원자의 이력서 내용이야. 내용을 분석하고 아래 질문에 답해줘:\n",
    "1) 지원자의 핵심 경력과 기술 역량은?\n",
    "2) 지원자의 경력 중 가장 강점이 되는 부분은?\n",
    "3) 개선하거나 보완하면 좋을 점은?\n",
    "\n",
    "[이력서 내용]\n",
    "-----------------\n",
    "{extracted_text}\n",
    "-----------------\n",
    "\n",
    "※ 답변은 Markdown 형식으로 작성해줘.\n",
    "\"\"\""
   ]
  },
  {
   "cell_type": "code",
   "execution_count": 7,
   "id": "84507f38",
   "metadata": {},
   "outputs": [],
   "source": [
    "\n",
    "# =============================================================================\n",
    "#   Ollama HTTP API 호출\n",
    "# =============================================================================\n",
    "\n",
    "response = client.chat.completions.create(\n",
    "    model=\"gpt-4o\",\n",
    "    messages=[\n",
    "        {\"role\": \"system\", \"content\": \"당신은 전문 인사 담당자입니다.\"},\n",
    "        {\"role\": \"user\", \"content\": prompt}\n",
    "    ]\n",
    ")\n",
    "\n",
    "analysis = response.choices[0].message.content"
   ]
  },
  {
   "cell_type": "code",
   "execution_count": 8,
   "id": "d393714d",
   "metadata": {},
   "outputs": [
    {
     "data": {
      "text/markdown": [
       "GPT 분석 결과 (OpenAI)"
      ],
      "text/plain": [
       "<IPython.core.display.Markdown object>"
      ]
     },
     "metadata": {},
     "output_type": "display_data"
    },
    {
     "data": {
      "text/markdown": [
       "```markdown\n",
       "1) 지원자의 핵심 경력과 기술 역량은?\n",
       "   - **핵심 경력**: 5년 이상의 경력을 통해 백엔드 개발에 전문성이 있는 지원자로, 주로 대용량 트래픽 처리 시스템 설계 및 구현과 REST API 서버 개발 및 유지보수에 집중해왔습니다.\n",
       "   - **기술 역량**: Python, Django, Node.js를 이용한 웹서비스 구축과 AWS를 활용한 서비스 배포 및 인프라 관리 경험을 가지고 있습니다. 데이터베이스 관리(MySQL, PostgreSQL) 및 DevOps 도구(Git, Docker, AWS, Linux)에 능숙합니다.\n",
       "\n",
       "2) 지원자의 경력 중 가장 강점이 되는 부분은?\n",
       "   - **대용량 트래픽 처리 시스템 설계 및 구현**: 지원자의 경력 중 ABC주식회사에서 대용량 트래픽 처리 시스템을 설계하고 구현한 경험이 가장 강점인 부분으로 보입니다. 이는 복잡한 문제 해결 능력과 효율적인 시스템 설계 능력을 보여줍니다.\n",
       "   - **AWS 기반 서비스 운영**: AWS 환경에서 서비스를 배포하고 인프라를 관리한 경험도 중요한 강점입니다. 이 역량은 현재 많은 기업이 클라우드 환경으로 이전하면서 더욱 중요해지고 있습니다.\n",
       "\n",
       "3) 개선하거나 보완하면 좋을 점은?\n",
       "   - **프론트엔드 기술 역량 강화**: 과거 XYZ스타트업에서 프론트엔드 개발팀과 협업하여 SPA를 구축한 경험이 있으나, 프론트엔드 기술 스택에 대한 구체적 언급이 없으므로 이 부분에서의 역량이 미흡할 수 있습니다. 보다 원활한 협업과 전체적인 웹 애플리케이션의 이해를 위해 프론트엔드 기술(예: React, Angular, Vue.js)에 대한 지식을 강화하면 좋을 것입니다.\n",
       "   - **프로젝트 관리 경험**: 현재 이력서에는 팀 리드나 프로젝트 관리 경험이 언급되지 않았습니다. 향후 커리어 발전을 위해 프로젝트 관리를 통한 리더십 경험을 쌓는 것도 추천드립니다.\n",
       "```\n"
      ],
      "text/plain": [
       "<IPython.core.display.Markdown object>"
      ]
     },
     "metadata": {},
     "output_type": "display_data"
    }
   ],
   "source": [
    "\n",
    "# =============================================================================\n",
    "#   분석 결과 출력\n",
    "# =============================================================================\n",
    "\n",
    "display(Markdown(\"GPT 분석 결과 (OpenAI)\"))\n",
    "display(Markdown(analysis))"
   ]
  }
 ],
 "metadata": {
  "kernelspec": {
   "display_name": "base",
   "language": "python",
   "name": "python3"
  },
  "language_info": {
   "codemirror_mode": {
    "name": "ipython",
    "version": 3
   },
   "file_extension": ".py",
   "mimetype": "text/x-python",
   "name": "python",
   "nbconvert_exporter": "python",
   "pygments_lexer": "ipython3",
   "version": "3.12.7"
  }
 },
 "nbformat": 4,
 "nbformat_minor": 5
}
